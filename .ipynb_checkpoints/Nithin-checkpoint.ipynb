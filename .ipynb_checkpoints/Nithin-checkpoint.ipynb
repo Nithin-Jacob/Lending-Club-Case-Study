{
 "cells": [
  {
   "cell_type": "markdown",
   "id": "fff2a273-b834-4f0c-b577-10578fc535f4",
   "metadata": {},
   "source": [
    "# Lending Club Case Study"
   ]
  },
  {
   "cell_type": "markdown",
   "id": "eca0ae84-1a74-45b3-81c6-cefbff880325",
   "metadata": {},
   "source": [
    "## Introduction\n",
    "\n",
    "This case study is about a lending Club. We analyse the data and detectapatternto minimisethe risk of losing money when lending to customers.\n",
    "In this case study, we will use *Exploratory Data Analysis* to understand how consumer attributes and loan attributes influence the tendency of default. "
   ]
  }
 ],
 "metadata": {
  "kernelspec": {
   "display_name": "Python 3 (ipykernel)",
   "language": "python",
   "name": "python3"
  },
  "language_info": {
   "codemirror_mode": {
    "name": "ipython",
    "version": 3
   },
   "file_extension": ".py",
   "mimetype": "text/x-python",
   "name": "python",
   "nbconvert_exporter": "python",
   "pygments_lexer": "ipython3",
   "version": "3.10.0"
  }
 },
 "nbformat": 4,
 "nbformat_minor": 5
}
